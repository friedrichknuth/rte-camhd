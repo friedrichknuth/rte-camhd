{
 "cells": [
  {
   "cell_type": "code",
   "execution_count": 11,
   "metadata": {},
   "outputs": [],
   "source": [
    "import xarray as xr"
   ]
  },
  {
   "cell_type": "markdown",
   "metadata": {},
   "source": [
    "load in a raster (image) dataset. disregard lack of spatial data warning. using rasterio as a quick and dirty way to get what is an image loaded into in as xarray data array"
   ]
  },
  {
   "cell_type": "code",
   "execution_count": 12,
   "metadata": {},
   "outputs": [
    {
     "name": "stderr",
     "output_type": "stream",
     "text": [
      "/opt/conda/lib/python3.6/site-packages/rasterio/__init__.py:193: UserWarning: Dataset has no geotransform set.  Default transform will be applied (Affine.identity())\n",
      "  s.start()\n"
     ]
    }
   ],
   "source": [
    "ts = xr.open_rasterio('frame_4000.png', parse_coordinates=None, chunks=None, cache=None, lock=None)"
   ]
  },
  {
   "cell_type": "markdown",
   "metadata": {},
   "source": [
    "convert to dataset"
   ]
  },
  {
   "cell_type": "code",
   "execution_count": 13,
   "metadata": {},
   "outputs": [],
   "source": [
    "ts = ts.to_dataset(name = 'image')"
   ]
  },
  {
   "cell_type": "markdown",
   "metadata": {},
   "source": [
    "write to zarr.   \n",
    "this creates a local folder called `camhd_frames` that contains the zarr data. interestingly, it requires that I specify `camhd` as the group, so somehow it must know that it is working on the server, however i don't see these data being written to the `camhd_frames` container on azure.\n",
    "\n",
    "so instead of creating a local folder, `to_zarr` also lets you write to a MutableMapping object.\n",
    "http://xarray.pydata.org/en/stable/generated/xarray.Dataset.to_zarr.html\n",
    "https://github.com/zarr-developers/zarr/blob/f8df70ddcd714d544a913e3420279adf66b4994d/zarr/creation.py\n",
    "\n",
    "this is probable where elements from the azrfs map come in, though we need to figure out what exactly should be passed in here. \n",
    "https://github.com/friedrichknuth/rte-camhd/blob/master/examples/azure_file_mapping.ipynb"
   ]
  },
  {
   "cell_type": "code",
   "execution_count": 15,
   "metadata": {},
   "outputs": [],
   "source": [
    "ts_za = ts.to_zarr(store='frame_4000.zarr',mode='w', synchronizer=None, group='camhd', encoding=None)"
   ]
  },
  {
   "cell_type": "markdown",
   "metadata": {},
   "source": [
    "trying to write the folder to blob storage doesn't work. it seems to need a single file or possibly virtual file. "
   ]
  },
  {
   "cell_type": "code",
   "execution_count": 20,
   "metadata": {},
   "outputs": [
    {
     "ename": "IsADirectoryError",
     "evalue": "[Errno 21] Is a directory: 'frame_4000.zarr'",
     "output_type": "error",
     "traceback": [
      "\u001b[0;31m---------------------------------------------------------------------------\u001b[0m",
      "\u001b[0;31mIsADirectoryError\u001b[0m                         Traceback (most recent call last)",
      "\u001b[0;32m<ipython-input-20-2ec8f89662f7>\u001b[0m in \u001b[0;36m<module>\u001b[0;34m()\u001b[0m\n\u001b[1;32m      4\u001b[0m \u001b[0mblob_service\u001b[0m \u001b[0;34m=\u001b[0m \u001b[0mBlockBlobService\u001b[0m\u001b[0;34m(\u001b[0m\u001b[0mazure_storage_account_name\u001b[0m\u001b[0;34m,\u001b[0m \u001b[0mazure_storage_account_key\u001b[0m\u001b[0;34m)\u001b[0m\u001b[0;34m\u001b[0m\u001b[0m\n\u001b[1;32m      5\u001b[0m \u001b[0;34m\u001b[0m\u001b[0m\n\u001b[0;32m----> 6\u001b[0;31m \u001b[0mblob_service\u001b[0m\u001b[0;34m.\u001b[0m\u001b[0mcreate_blob_from_path\u001b[0m\u001b[0;34m(\u001b[0m\u001b[0;34m'camhd_frames'\u001b[0m\u001b[0;34m,\u001b[0m\u001b[0;34m'frame_4000.zarr'\u001b[0m\u001b[0;34m,\u001b[0m \u001b[0;34m'frame_4000.zarr'\u001b[0m\u001b[0;34m)\u001b[0m\u001b[0;34m\u001b[0m\u001b[0m\n\u001b[0m",
      "\u001b[0;32m/opt/conda/lib/python3.6/site-packages/azure/storage/blob/blockblobservice.py\u001b[0m in \u001b[0;36mcreate_blob_from_path\u001b[0;34m(self, container_name, blob_name, file_path, content_settings, metadata, validate_content, progress_callback, max_connections, lease_id, if_modified_since, if_unmodified_since, if_match, if_none_match, timeout)\u001b[0m\n\u001b[1;32m    386\u001b[0m \u001b[0;34m\u001b[0m\u001b[0m\n\u001b[1;32m    387\u001b[0m         \u001b[0mcount\u001b[0m \u001b[0;34m=\u001b[0m \u001b[0mpath\u001b[0m\u001b[0;34m.\u001b[0m\u001b[0mgetsize\u001b[0m\u001b[0;34m(\u001b[0m\u001b[0mfile_path\u001b[0m\u001b[0;34m)\u001b[0m\u001b[0;34m\u001b[0m\u001b[0m\n\u001b[0;32m--> 388\u001b[0;31m         \u001b[0;32mwith\u001b[0m \u001b[0mopen\u001b[0m\u001b[0;34m(\u001b[0m\u001b[0mfile_path\u001b[0m\u001b[0;34m,\u001b[0m \u001b[0;34m'rb'\u001b[0m\u001b[0;34m)\u001b[0m \u001b[0;32mas\u001b[0m \u001b[0mstream\u001b[0m\u001b[0;34m:\u001b[0m\u001b[0;34m\u001b[0m\u001b[0m\n\u001b[0m\u001b[1;32m    389\u001b[0m             return self.create_blob_from_stream(\n\u001b[1;32m    390\u001b[0m                 \u001b[0mcontainer_name\u001b[0m\u001b[0;34m=\u001b[0m\u001b[0mcontainer_name\u001b[0m\u001b[0;34m,\u001b[0m\u001b[0;34m\u001b[0m\u001b[0m\n",
      "\u001b[0;31mIsADirectoryError\u001b[0m: [Errno 21] Is a directory: 'frame_4000.zarr'"
     ]
    }
   ],
   "source": [
    "from azure.storage.blob import BlockBlobService\n",
    "azure_storage_account_name = ''\n",
    "azure_storage_account_key = ''\n",
    "blob_service = BlockBlobService(azure_storage_account_name, azure_storage_account_key)\n",
    "\n",
    "blob_service.create_blob_from_path('camhd_frames','frame_4000.zarr', 'frame_4000.zarr')"
   ]
  },
  {
   "cell_type": "markdown",
   "metadata": {},
   "source": [
    "whatever the correct function is, it will likely need to be packed under the hood of what is started in azrfs, would be my guess, along with MutableMapping functionality\n",
    "https://github.com/friedrichknuth/rte-camhd/tree/master/examples/azrfs"
   ]
  },
  {
   "cell_type": "code",
   "execution_count": null,
   "metadata": {},
   "outputs": [],
   "source": []
  }
 ],
 "metadata": {
  "kernelspec": {
   "display_name": "Python [conda root]",
   "language": "python",
   "name": "conda-root-py"
  },
  "language_info": {
   "codemirror_mode": {
    "name": "ipython",
    "version": 3
   },
   "file_extension": ".py",
   "mimetype": "text/x-python",
   "name": "python",
   "nbconvert_exporter": "python",
   "pygments_lexer": "ipython3",
   "version": "3.6.4"
  }
 },
 "nbformat": 4,
 "nbformat_minor": 2
}
